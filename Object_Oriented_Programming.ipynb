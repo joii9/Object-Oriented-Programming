{
 "cells": [
  {
   "cell_type": "markdown",
   "id": "b4c93250-ba59-45f9-b1c9-bb90f14864fc",
   "metadata": {},
   "source": [
    "# Object- Oriented Programming"
   ]
  },
  {
   "cell_type": "code",
   "execution_count": 3,
   "id": "b3dd1589-ea9b-47d5-a964-970c8d1d675e",
   "metadata": {},
   "outputs": [],
   "source": [
    "class Dog:\n",
    "  sound = \"Woof\"\n",
    "\n",
    "  def __init__(self, name, age):\n",
    "    self.name = name\n",
    "    self.age = age\n",
    "\n",
    "  def bark(self):\n",
    "    print(Dog.sound)"
   ]
  },
  {
   "cell_type": "code",
   "execution_count": 7,
   "id": "d11f51a4-7726-4998-9636-fcf4e4ac8439",
   "metadata": {},
   "outputs": [
    {
     "name": "stdout",
     "output_type": "stream",
     "text": [
      "Woof\n"
     ]
    }
   ],
   "source": [
    "Dog(\"Wero\", 5).bark()"
   ]
  },
  {
   "cell_type": "markdown",
   "id": "fc636280-cbba-4004-8ff8-b420fb5939cf",
   "metadata": {},
   "source": [
    "In the above example, we are representing a real-world entity (a dog) as a class with properties (name and age) and methods (bark)."
   ]
  },
  {
   "cell_type": "code",
   "execution_count": 8,
   "id": "e5a42ac9-c21f-485a-b5a6-adae13ea5e3b",
   "metadata": {
    "scrolled": true
   },
   "outputs": [
    {
     "name": "stdout",
     "output_type": "stream",
     "text": [
      "My id is 2\n",
      "My id is 3\n"
     ]
    }
   ],
   "source": [
    "class Employee:\n",
    "  new_id= 1\n",
    "\n",
    "  def __init__(self):\n",
    "    self.id=Employee.new_id\n",
    "    Employee.new_id += 1\n",
    "\n",
    "  def say_id(self):\n",
    "    print(\"My id is \" +str(self.new_id))\n",
    "  \n",
    "\n",
    "e1= Employee()\n",
    "e1.say_id()\n",
    "e2= Employee()\n",
    "e2.say_id()"
   ]
  },
  {
   "cell_type": "markdown",
   "id": "a7d47f36-9c70-46d4-87cc-e61acea3edda",
   "metadata": {},
   "source": [
    "## Inheritance"
   ]
  },
  {
   "cell_type": "code",
   "execution_count": null,
   "id": "b40513ea-1ad2-475c-923c-16529d0c484c",
   "metadata": {},
   "outputs": [],
   "source": [
    "class ParentClass:\n",
    "  #class methods/properties...\n",
    "\n",
    "class ChildClass(ParentClass):\n",
    "  #class methods/properties...\n"
   ]
  },
  {
   "cell_type": "code",
   "execution_count": null,
   "id": "f8d70dd2-4d41-4646-af7e-825a0b73bbf4",
   "metadata": {},
   "outputs": [],
   "source": [
    "This form looks Inheritance"
   ]
  },
  {
   "cell_type": "code",
   "execution_count": 9,
   "id": "85d31863-12c7-4a96-8f5b-bbbb2afa3ea6",
   "metadata": {},
   "outputs": [],
   "source": [
    "class Animal: \n",
    "  def eat(self): \n",
    "    print(\"Nom Nom Nom...eating food!\")\n",
    "\n",
    "\n",
    "class Dog(Animal):\n",
    "  def bark(self):\n",
    "    print('Bark!')\n",
    "\n",
    "class Cat(Animal):\n",
    "  def meow(self):\n",
    "    print('Meow!')\n"
   ]
  },
  {
   "cell_type": "code",
   "execution_count": 10,
   "id": "f8839277-c5e8-4b50-869b-58a2af609204",
   "metadata": {},
   "outputs": [
    {
     "name": "stdout",
     "output_type": "stream",
     "text": [
      "Nom Nom Nom...eating food!\n",
      "Nom Nom Nom...eating food!\n"
     ]
    }
   ],
   "source": [
    "fluffy = Dog()\n",
    "zoomie = Cat()\n",
    "\n",
    "fluffy.eat() # Nom Nom Nom...eating food!\n",
    "zoomie.eat() # Nom Nom Nom...eating food!\n"
   ]
  },
  {
   "cell_type": "code",
   "execution_count": 11,
   "id": "eca9ac25-52f7-4604-8116-8db4b029dfa4",
   "metadata": {},
   "outputs": [
    {
     "name": "stdout",
     "output_type": "stream",
     "text": [
      "My id is 1.\n",
      "My id is 2.\n",
      "My id is 3.\n"
     ]
    }
   ],
   "source": [
    "class Employee():\n",
    "  new_id = 1\n",
    "  def __init__(self):\n",
    "    self.id = Employee.new_id\n",
    "    Employee.new_id += 1\n",
    "\n",
    "  def say_id(self):\n",
    "    print(\"My id is {}.\".format(self.id))\n",
    "  \n",
    "class Admin(Employee): #Inheritance\n",
    "  pass\n",
    "\n",
    "# Write your code below\n",
    "\n",
    "\n",
    "e1 = Employee()\n",
    "e1.say_id()\n",
    "e2 = Employee()\n",
    "e2.say_id()\n",
    "e3= Admin()\n",
    "e3.say_id()"
   ]
  },
  {
   "cell_type": "markdown",
   "id": "1348c765-8338-4a68-8011-be27d10784fd",
   "metadata": {},
   "source": [
    "## Overriding Methods\n",
    "\n",
    "Sobrescribir un metodo"
   ]
  },
  {
   "cell_type": "code",
   "execution_count": 13,
   "id": "2834487e-cb28-4dba-bd93-4b894092c24b",
   "metadata": {},
   "outputs": [
    {
     "name": "stdout",
     "output_type": "stream",
     "text": [
      "Rex says, Grrrr\n"
     ]
    }
   ],
   "source": [
    "class Animal:\n",
    "  def __init__(self, name):\n",
    "    self.name = name\n",
    "\n",
    "  def make_noise(self):\n",
    "    print(\"{} says, Grrrr\".format(self.name))\n",
    "\n",
    "pet1 = Animal(\"Rex\")\n",
    "pet1.make_noise() # Rex says, Grrrr"
   ]
  },
  {
   "cell_type": "code",
   "execution_count": 14,
   "id": "6ffa64e4-be1f-4724-a1c5-9d97e8fc4965",
   "metadata": {},
   "outputs": [
    {
     "name": "stdout",
     "output_type": "stream",
     "text": [
      "Maisy says, Meow!\n"
     ]
    }
   ],
   "source": [
    "class Cat(Animal): #Inheritance\n",
    "\n",
    "  def make_noise(self):\n",
    "    print(\"{} says, Meow!\".format(self.name))\n",
    "\n",
    "pet2 = Cat(\"Maisy\") #Overriding method\n",
    "pet2.make_noise() # Maisy says, Meow!\n"
   ]
  },
  {
   "cell_type": "markdown",
   "id": "347a3d28-9f2e-4af7-b880-6da8b716ff28",
   "metadata": {},
   "source": [
    "If you pay attention Cat has all the attributes and methods of Animal class. But if you call the make_noise() method of instance of cat. The behaviour changed to says Meow!"
   ]
  },
  {
   "cell_type": "markdown",
   "id": "4691e5bb-cac7-4b37-9a05-93db07fef0c5",
   "metadata": {},
   "source": [
    "## Super()"
   ]
  },
  {
   "cell_type": "markdown",
   "id": "54281fcd-0cdd-42bd-b3c2-50aeb15a0acc",
   "metadata": {},
   "source": [
    "When overriding methods we sometimes want to still access the behavior of the parent method. In order to do that we need a way to call the method of the parent class. Python gives us a way to do that using \n",
    "super()"
   ]
  },
  {
   "cell_type": "code",
   "execution_count": 16,
   "id": "1ab99b99-dad8-42b2-a2d7-d9d6cc6476fc",
   "metadata": {},
   "outputs": [
    {
     "name": "stdout",
     "output_type": "stream",
     "text": [
      "Rachel says, Meow!\n"
     ]
    }
   ],
   "source": [
    "class Animal:\n",
    "  def __init__(self, name, sound=\"Grrrr\"):\n",
    "    self.name = name\n",
    "    self.sound = sound\n",
    "\n",
    "  def make_noise(self):\n",
    "    print(\"{} says, {}\".format(self.name, self.sound))\n",
    "\n",
    "class Cat(Animal):\n",
    "  def __init__(self, name):\n",
    "    super().__init__(name, \"Meow!\") #Here is the magic!\n",
    "\n",
    "pet_cat = Cat(\"Rachel\")\n",
    "pet_cat.make_noise() # Rachel says, Meow!\n"
   ]
  },
  {
   "cell_type": "code",
   "execution_count": 17,
   "id": "5df397b3-ef16-4ffe-bb12-26ac0b86ba49",
   "metadata": {},
   "outputs": [
    {
     "name": "stdout",
     "output_type": "stream",
     "text": [
      "My id is 3.\n",
      "I am an admin.\n"
     ]
    }
   ],
   "source": [
    "class Employee():\n",
    "  new_id = 1\n",
    "  def __init__(self):\n",
    "    self.id = Employee.new_id\n",
    "    Employee.new_id += 1\n",
    "\n",
    "  def say_id(self):\n",
    "    print(\"My id is {}.\".format(self.id))\n",
    "\n",
    "class Admin(Employee):\n",
    "  def say_id(self):\n",
    "    # Write your code below:\n",
    "    super().say_id()\n",
    "    print(\"I am an admin.\")\n",
    "\n",
    "e1 = Employee()\n",
    "e2 = Employee()\n",
    "e3 = Admin()\n",
    "e3.say_id()\n",
    "\n"
   ]
  },
  {
   "cell_type": "markdown",
   "id": "fdb50c3f-2a02-47ea-bc1a-7b19e8bd8d5f",
   "metadata": {},
   "source": [
    "## Multiple Inheritance"
   ]
  },
  {
   "cell_type": "code",
   "execution_count": 1,
   "id": "5be6e46f-51cb-49ab-a552-da184609a754",
   "metadata": {},
   "outputs": [
    {
     "name": "stdout",
     "output_type": "stream",
     "text": [
      "Mr. Cranky says, Hi!\n"
     ]
    }
   ],
   "source": [
    "class Animal:\n",
    "  def __init__(self, name):\n",
    "    self.name = name\n",
    " \n",
    "  def say_hi(self):\n",
    "    print(\"{} says, Hi!\".format(self.name))\n",
    "\n",
    "class Cat(Animal):\n",
    "  pass\n",
    "\n",
    "class Angry_Cat(Cat):\n",
    "  pass\n",
    "\n",
    "my_pet = Angry_Cat(\"Mr. Cranky\")\n",
    "my_pet.say_hi() # Mr. Cranky says, Hi!\n"
   ]
  },
  {
   "cell_type": "code",
   "execution_count": 2,
   "id": "89f8c723-2a19-45e7-91d5-47626f6d4df1",
   "metadata": {},
   "outputs": [
    {
     "name": "stdout",
     "output_type": "stream",
     "text": [
      "My id is... 4.\n",
      "I am an admin.\n",
      "My id is 4.\n"
     ]
    }
   ],
   "source": [
    "class Employee():\n",
    "  new_id = 1\n",
    "  def __init__(self):\n",
    "    self.id = Employee.new_id\n",
    "    Employee.new_id += 1\n",
    "\n",
    "  def say_id(self):\n",
    "    print(\"My id is... {}.\".format(self.id))\n",
    "\n",
    "class Admin(Employee):\n",
    "  def say_id(self):\n",
    "    super().say_id()\n",
    "    print(\"I am an admin.\")\n",
    "\n",
    "# Write your code below\n",
    "\n",
    "class Manager(Admin):\n",
    "  def say_id(self):\n",
    "    super().say_id()\n",
    "    print(\"My id is {}.\".format(self.id))\n",
    "    \n",
    "\n",
    "\n",
    "\n",
    "e1 = Employee()\n",
    "e2 = Employee()\n",
    "e3 = Admin()\n",
    "e4 = Manager()\n",
    "e4.say_id()"
   ]
  },
  {
   "cell_type": "markdown",
   "id": "ed15633a-4f42-4b36-bc05-fec047dc92bc",
   "metadata": {},
   "source": [
    "## Multiple Inheritance"
   ]
  },
  {
   "cell_type": "code",
   "execution_count": 3,
   "id": "79f29421-b0c2-47bd-b474-c5b3f08bc8b1",
   "metadata": {},
   "outputs": [
    {
     "name": "stdout",
     "output_type": "stream",
     "text": [
      "Fluffy wags tail. Awwww\n",
      "Fluffy bites. OUCH!\n"
     ]
    }
   ],
   "source": [
    "class Animal:\n",
    "  def __init__(self, name):\n",
    "    self.name = name\n",
    "\n",
    "class Dog(Animal):\n",
    "  def action(self):\n",
    "    print(\"{} wags tail. Awwww\".format(self.name))\n",
    "\n",
    "class Wolf(Animal):\n",
    "  def action(self):\n",
    "    print(\"{} bites. OUCH!\".format(self.name))\n",
    "\n",
    "class Hybrid(Dog, Wolf):\n",
    "  def action(self):\n",
    "    super().action() #This super does not correspond to Wolf class but to Dog class because...\n",
    "    Wolf.action(self) #This object and method correspond to Wolf class and it is necessary to give the argument self as a rule\n",
    "\n",
    "my_pet = Hybrid(\"Fluffy\")\n",
    "my_pet.action() # Fluffy wags tail. Awwww\n",
    "                # Fluffy bites. OUCH!\n"
   ]
  },
  {
   "cell_type": "code",
   "execution_count": 4,
   "id": "a913d661-96e9-4b25-b9b7-c1bf81357534",
   "metadata": {},
   "outputs": [
    {
     "name": "stdout",
     "output_type": "stream",
     "text": [
      "My username is 3\n",
      "My role is Admin\n"
     ]
    }
   ],
   "source": [
    "class Employee():\n",
    "  new_id = 1\n",
    "  def __init__(self):\n",
    "    self.id = Employee.new_id\n",
    "    Employee.new_id += 1\n",
    "\n",
    "  def say_id(self):\n",
    "    print(\"My id is {}.\".format(self.id))\n",
    "\n",
    "class User:\n",
    "  def __init__(self, username, role=\"Customer\"):\n",
    "    self.username = username\n",
    "    self.role = role\n",
    "\n",
    "  def say_user_info(self):\n",
    "    print(\"My username is {}\".format(self.username))\n",
    "    print(\"My role is {}\".format(self.role))\n",
    "\n",
    "# Write your code below\n",
    "class Admin(Employee, User):\n",
    "  def __init__(self):\n",
    "    super().__init__()\n",
    "    User.__init__(self, self.id, \"Admin\")\n",
    "    \n",
    "\n",
    "  def say_id(self):\n",
    "    super().say_id()\n",
    "    print(\"I am an admin.\")\n",
    "\n",
    "e1 = Employee()\n",
    "e2 = Employee()\n",
    "e3 = Admin()\n",
    "e3.say_user_info()\n"
   ]
  },
  {
   "cell_type": "markdown",
   "id": "174d0fe7-5465-49c1-b9d6-432cf1ac1739",
   "metadata": {},
   "source": [
    "## Polymorphism"
   ]
  },
  {
   "cell_type": "code",
   "execution_count": 5,
   "id": "275617b6-7d95-4771-bd59-8225e882a326",
   "metadata": {},
   "outputs": [],
   "source": [
    "class Animal:\n",
    "  def __init__(self, name):\n",
    "    self.name = name\n",
    "\n",
    "  def make_noise(self):\n",
    "    print(\"{} says, Grrrr\".format(self.name))\n",
    "\n",
    "class Cat(Animal):\n",
    "\n",
    "  def make_noise(self):\n",
    "    print(\"{} says, Meow!\".format(self.name))\n",
    "\n",
    "class Robot:\n",
    "  \n",
    "  def make_noise(self):\n",
    "    print(\"beep.boop...BEEEEP!!!\")\n"
   ]
  },
  {
   "cell_type": "code",
   "execution_count": 6,
   "id": "65c69bb2-111a-4925-80e3-a6937af8a420",
   "metadata": {},
   "outputs": [
    {
     "name": "stdout",
     "output_type": "stream",
     "text": [
      "Bear says, Grrrr\n",
      "Maisy says, Meow!\n",
      "beep.boop...BEEEEP!!!\n"
     ]
    }
   ],
   "source": [
    "\n",
    "an_animal = Animal(\"Bear\")\n",
    "my_pet = Cat(\"Maisy\")\n",
    "my_vacuum = Robot()\n",
    "objects = [an_animal, my_pet, my_vacuum]\n",
    "for o in objects:\n",
    "  o.make_noise()\n",
    "\n",
    "# OUTPUT\n",
    "# \"Bear says, Grrrr\"\n",
    "# \"Maisy says, Meow!\"\n",
    "# \"beep.boop...BEEEEP!!!\"\n"
   ]
  },
  {
   "cell_type": "markdown",
   "id": "abc6f2d4-f5bb-4e94-bf70-70bc964182e8",
   "metadata": {},
   "source": [
    "## Dunder Methods"
   ]
  },
  {
   "cell_type": "code",
   "execution_count": 7,
   "id": "8bdad432-dce2-4f2a-be70-61cc08839793",
   "metadata": {},
   "outputs": [
    {
     "name": "stdout",
     "output_type": "stream",
     "text": [
      "Horse\n",
      "Penguin\n",
      "HorsePenguin\n"
     ]
    }
   ],
   "source": [
    "class Animal:\n",
    "  def __init__(self, name):\n",
    "    self.name = name\n",
    "\n",
    "  def __repr__(self):\n",
    "    return self.name\n",
    "\n",
    "  def __add__(self, another_animal):\n",
    "    return Animal(self.name + another_animal.name)\n",
    "\n",
    "a1 = Animal(\"Horse\")\n",
    "a2 = Animal(\"Penguin\")\n",
    "a3 = a1 + a2\n",
    "print(a1) # Prints \"Horse\"\n",
    "print(a2) # Prints \"Penguin\"\n",
    "print(a3) # Prints \"HorsePenguin\"\n"
   ]
  },
  {
   "cell_type": "code",
   "execution_count": null,
   "id": "f1e0b403-b464-48f4-90b2-cf50f4a65401",
   "metadata": {},
   "outputs": [],
   "source": [
    "The above code has the class Animal with a dunder method, .__add__(). This defines the + operator behavior when used on objects of this class type. "
   ]
  },
  {
   "cell_type": "code",
   "execution_count": 13,
   "id": "57163e89-f99e-4335-a904-15adffa676c9",
   "metadata": {},
   "outputs": [],
   "source": [
    "class Animal:\n",
    "  def __init__(self, name):\n",
    "    self.name = name\n",
    "\n",
    "  def __repr__(self):\n",
    "    return self.name"
   ]
  },
  {
   "cell_type": "code",
   "execution_count": 14,
   "id": "97904d26-417b-414e-bc58-8d4bfade15c0",
   "metadata": {},
   "outputs": [
    {
     "ename": "TypeError",
     "evalue": "unsupported operand type(s) for +: 'Animal' and 'Animal'",
     "output_type": "error",
     "traceback": [
      "\u001b[1;31m---------------------------------------------------------------------------\u001b[0m",
      "\u001b[1;31mTypeError\u001b[0m                                 Traceback (most recent call last)",
      "Cell \u001b[1;32mIn[14], line 3\u001b[0m\n\u001b[0;32m      1\u001b[0m a1 \u001b[38;5;241m=\u001b[39m Animal(\u001b[38;5;124m\"\u001b[39m\u001b[38;5;124mHorse\u001b[39m\u001b[38;5;124m\"\u001b[39m)\n\u001b[0;32m      2\u001b[0m a2 \u001b[38;5;241m=\u001b[39m Animal(\u001b[38;5;124m\"\u001b[39m\u001b[38;5;124mPenguin\u001b[39m\u001b[38;5;124m\"\u001b[39m)\n\u001b[1;32m----> 3\u001b[0m a3 \u001b[38;5;241m=\u001b[39m a1 \u001b[38;5;241m+\u001b[39m a2\n\u001b[0;32m      4\u001b[0m \u001b[38;5;28mprint\u001b[39m(a1) \u001b[38;5;66;03m# Prints \"Horse\"\u001b[39;00m\n\u001b[0;32m      5\u001b[0m \u001b[38;5;28mprint\u001b[39m(a2) \u001b[38;5;66;03m# Prints \"Penguin\"\u001b[39;00m\n",
      "\u001b[1;31mTypeError\u001b[0m: unsupported operand type(s) for +: 'Animal' and 'Animal'"
     ]
    }
   ],
   "source": [
    "a1 = Animal(\"Horse\")\n",
    "a2 = Animal(\"Penguin\")\n",
    "a3 = a1 + a2\n",
    "print(a1) # Prints \"Horse\"\n",
    "print(a2) # Prints \"Penguin\"\n",
    "print(a3) # Prints \"HorsePenguin\""
   ]
  },
  {
   "cell_type": "code",
   "execution_count": 15,
   "id": "771561d7-5ebe-4ee2-9682-0930557f4eb2",
   "metadata": {},
   "outputs": [
    {
     "name": "stdout",
     "output_type": "stream",
     "text": [
      "ID 1 added.\n",
      "ID 2 added.\n",
      "ID 3 added.\n",
      "3\n",
      "3\n"
     ]
    }
   ],
   "source": [
    "class Employee():\n",
    "  new_id = 1\n",
    "  def __init__(self):\n",
    "    self.id = Employee.new_id\n",
    "    Employee.new_id += 1\n",
    "\n",
    "class Meeting:\n",
    "  def __init__(self):\n",
    "    self.attendees = []\n",
    "  \n",
    "  def __add__(self, employee):\n",
    "    print(\"ID {} added.\".format(employee.id))\n",
    "    self.attendees.append(employee)\n",
    "\n",
    "  # Write your code\n",
    "  def __len__(self):\n",
    "    return len(self.attendees)\n",
    "  \n",
    "    \n",
    "e1 = Employee()\n",
    "e2 = Employee()\n",
    "e3 = Employee()\n",
    "m1 = Meeting()\n",
    "\n",
    "m1+e1\n",
    "m1+e2\n",
    "m1+e3\n",
    "\n",
    "print(len(m1))\n",
    "print(m1.__len__())\n"
   ]
  },
  {
   "cell_type": "markdown",
   "id": "66193eef-cbad-42f7-8973-80c70b5d256e",
   "metadata": {},
   "source": [
    "## Abstraction"
   ]
  },
  {
   "cell_type": "code",
   "execution_count": 16,
   "id": "cb0ca297-9de1-40fe-9f8d-fa5e76b64af6",
   "metadata": {},
   "outputs": [
    {
     "name": "stdout",
     "output_type": "stream",
     "text": [
      "Maisy says, Meow!\n",
      "Amber says, Woof!\n"
     ]
    }
   ],
   "source": [
    "from abc import ABC, abstractmethod #Abstract Base Class\n",
    "\n",
    "class Animal(ABC): #Inherite ABC is the first step to making animal an abstract class. THIS class cannot be instantiated\n",
    "  def __init__(self, name):\n",
    "    self.name = name\n",
    "\n",
    "  @abstractmethod #Import the decorator on the empty method. \n",
    "  def make_noise(self):\n",
    "    pass\n",
    "\n",
    "class Cat(Animal):\n",
    "  def make_noise(self):\n",
    "    print(\"{} says, Meow!\".format(self.name))\n",
    "\n",
    "class Dog(Animal):\n",
    "  def make_noise(self):\n",
    "    print(\"{} says, Woof!\".format(self.name))\n",
    "\n",
    "kitty = Cat(\"Maisy\")\n",
    "doggy = Dog(\"Amber\")\n",
    "kitty.make_noise() # \"Maisy says, Meow!\"\n",
    "doggy.make_noise() # \"Amber says, Woof!\"\n"
   ]
  },
  {
   "cell_type": "markdown",
   "id": "3b9afc3d-77a7-492f-a189-27d87f52cd01",
   "metadata": {},
   "source": [
    "The .make_noise() method exists since all animals make some form of noise, but the method is not implemented since each animal makes a different noise. Each subclass of Animal is now required to define their own .make_noise() method or an error will occur."
   ]
  },
  {
   "cell_type": "raw",
   "id": "5353b457-0cbb-41b7-be8a-cbcdc30bfd58",
   "metadata": {},
   "source": [
    "Other error that can occur is instantite \n",
    "\n",
    "an_animal = Animal(\"Scruffy\")\n",
    "\n",
    "# TypeError: Can't instantiate abstract class Animal with abstract method make_noise\n"
   ]
  },
  {
   "cell_type": "markdown",
   "id": "a3c89854-539d-430c-b1dc-b63da79eeffc",
   "metadata": {},
   "source": [
    "## Getter, Setter, Deleter functions"
   ]
  },
  {
   "cell_type": "code",
   "execution_count": 20,
   "id": "93871413-a675-4170-9f96-fde8df4f4a5c",
   "metadata": {},
   "outputs": [
    {
     "name": "stdout",
     "output_type": "stream",
     "text": [
      "Maisy\n",
      "Fluffy\n"
     ]
    }
   ],
   "source": [
    "class Employee():\n",
    "  new_id = 1\n",
    "  def __init__(self, name=None):\n",
    "    self.id = Employee.new_id\n",
    "    Employee.new_id += 1\n",
    "    self._name = name\n",
    "\n",
    "  # Write your code below\n",
    "  def get_name(self):\n",
    "    return self._name\n",
    "  \n",
    "  def set_name(self, _name):\n",
    "    self._name= _name\n",
    "  \n",
    "  def del_name(self):\n",
    "    del self._name\n",
    "  \n",
    "    \n",
    "  \n",
    "\n",
    "e1 = Employee(\"Maisy\")\n",
    "e2 = Employee()\n",
    "\n",
    "\n",
    "\n",
    "e1 = Employee(\"Maisy\")\n",
    "e2 = Employee()\n",
    "print(e1.get_name())\n",
    "\n",
    "e2.set_name(\"Fluffy\")\n",
    "print(e2.get_name())\n",
    "\n",
    "#e2.del_name()\n",
    "#print(e2.get_name())"
   ]
  },
  {
   "cell_type": "code",
   "execution_count": 45,
   "id": "285ffdd9-c39d-4958-9948-56dcaef08c63",
   "metadata": {},
   "outputs": [],
   "source": [
    "class Box:\n",
    "  def __init__(self, weight):\n",
    "    self.__weight = weight #Variable with private encapsulation\n",
    "\n",
    "  def getWeight(self):\n",
    "    return self.__weight\n",
    " \n",
    "  def setWeight(self, weight):\n",
    "    if weight >= 0:\n",
    "      self.__weight = weight"
   ]
  },
  {
   "cell_type": "code",
   "execution_count": 53,
   "id": "e521e3c2-5c14-4a19-84d6-736c68736d2e",
   "metadata": {},
   "outputs": [
    {
     "name": "stdout",
     "output_type": "stream",
     "text": [
      "['_Box__weight', '__class__', '__delattr__', '__dict__', '__dir__', '__doc__', '__eq__', '__format__', '__ge__', '__getattribute__', '__getstate__', '__gt__', '__hash__', '__init__', '__init_subclass__', '__le__', '__lt__', '__module__', '__ne__', '__new__', '__reduce__', '__reduce_ex__', '__repr__', '__setattr__', '__sizeof__', '__str__', '__subclasshook__', '__weakref__', 'delWeight', 'getWeight', 'setWeight', 'weight']\n",
      "10\n",
      "5\n"
     ]
    }
   ],
   "source": [
    "box = Box(10)\n",
    "\n",
    "print(dir(box))\n",
    "\n",
    "box.setWeight(-5) # Creo que no se setea a -5 el peso por la restriccion de que el peso sea mayor o igual a 5 por eso toma la variable de dada en la clas\n",
    "print(box.getWeight())\n",
    "\n",
    "box.setWeight(5)\n",
    "print(box.getWeight())"
   ]
  },
  {
   "cell_type": "markdown",
   "id": "6da594ed-ef7a-4c1e-9fff-c261ee4375e0",
   "metadata": {},
   "source": [
    "## Built-in property() function"
   ]
  },
  {
   "cell_type": "code",
   "execution_count": 67,
   "id": "88a4d95c-deed-474a-84a5-d738e084545f",
   "metadata": {},
   "outputs": [],
   "source": [
    "class Box:\n",
    "  def __init__(self, weight):\n",
    "    self.__weight = weight\n",
    "\n",
    "  def getWeight(self):\n",
    "    return self.__weight\n",
    " \n",
    "  def setWeight(self, weight):\n",
    "    if weight >= 0:\n",
    "      self.__weight = weight\n",
    "\n",
    "  def delWeight(self):\n",
    "    del self.__weight\n",
    "\n",
    "  weight = property(getWeight, setWeight, delWeight, \"Docstring for the 'weight' property\")"
   ]
  },
  {
   "cell_type": "code",
   "execution_count": 68,
   "id": "f79e1cba-daff-4446-8fa7-ecea2c6cde43",
   "metadata": {},
   "outputs": [
    {
     "name": "stdout",
     "output_type": "stream",
     "text": [
      "10\n"
     ]
    }
   ],
   "source": [
    "box = Box(10)\n",
    "\n",
    "print(box.weight) #this calls .getWeight()\n",
    "\n",
    "box.weight = 5 #this called .setWeight()\n",
    "\n",
    "del box.weight #this calls .delWeight()\n",
    "\n",
    "box.weight = -5 #box.__weight is unchanged \n"
   ]
  },
  {
   "cell_type": "markdown",
   "id": "ae09d1b9-d658-4d9e-a92e-5913e49fc3f8",
   "metadata": {},
   "source": [
    "## @property decorator"
   ]
  },
  {
   "cell_type": "code",
   "execution_count": 69,
   "id": "85a9574f-c46f-41bb-99d7-1fee61f1912e",
   "metadata": {},
   "outputs": [],
   "source": [
    "class Box:\n",
    " def __init__(self, weight):\n",
    "   self.__weight = weight\n",
    "\n",
    " @property\n",
    " def weight(self):\n",
    "   \"\"\"Docstring for the 'weight' property\"\"\"\n",
    "   return self.__weight\n",
    "\n",
    "\n",
    " @weight.setter\n",
    " def weight(self, weight):\n",
    "   if weight >= 0:\n",
    "     self.__weight = weight\n",
    "\n",
    " @weight.deleter\n",
    " def weight(self):\n",
    "   del self.__weight"
   ]
  },
  {
   "cell_type": "code",
   "execution_count": 70,
   "id": "6d8a733e-a12b-4c41-9088-dc01c27a77d0",
   "metadata": {},
   "outputs": [],
   "source": [
    "box = Box(10)\n",
    "\n",
    "box.weight = 5\n",
    "\n",
    "del box.weight\n"
   ]
  },
  {
   "cell_type": "code",
   "execution_count": 72,
   "id": "8d3b7b17-6d59-4be0-8b24-851a7c268ea7",
   "metadata": {},
   "outputs": [
    {
     "data": {
      "text/plain": [
       "\u001b[1;31mType:\u001b[0m        property\n",
       "\u001b[1;31mString form:\u001b[0m <property object at 0x000001AC3688FA10>\n",
       "\u001b[1;31mDocstring:\u001b[0m   Docstring for the 'weight' property"
      ]
     },
     "metadata": {},
     "output_type": "display_data"
    }
   ],
   "source": [
    "Box.weight?"
   ]
  },
  {
   "cell_type": "code",
   "execution_count": null,
   "id": "9f4cbcda-b669-415b-8afe-0d2abbf38014",
   "metadata": {},
   "outputs": [],
   "source": []
  },
  {
   "cell_type": "markdown",
   "id": "20b86bb9-4d23-4b75-bed7-c2df5fad99ac",
   "metadata": {},
   "source": [
    "## Review"
   ]
  },
  {
   "cell_type": "code",
   "execution_count": 21,
   "id": "294c45d5-997f-40d7-a4bd-8c563862342a",
   "metadata": {},
   "outputs": [],
   "source": [
    "from abc import ABC, abstractmethod\n",
    "\n",
    "class AbstractEmployee(ABC):\n",
    "  new_id = 1\n",
    "  def __init__(self):\n",
    "    self.id = AbstractEmployee.new_id\n",
    "    AbstractEmployee.new_id += 1\n",
    "\n",
    "  @abstractmethod\n",
    "  def say_id(self):\n",
    "    pass\n",
    "\n",
    "class User:\n",
    "  def __init__(self):\n",
    "    self._username = None\n",
    "\n",
    "  @property\n",
    "  def username(self):\n",
    "    return self._username\n",
    "\n",
    "  @username.setter\n",
    "  def username(self, new_name):\n",
    "    self._username = new_name\n",
    "\n",
    "class Meeting:\n",
    "  def __init__(self):\n",
    "    self.attendees = []\n",
    "  \n",
    "  def __add__(self, employee):\n",
    "    print(\"{} added.\".format(employee.username))\n",
    "    self.attendees.append(employee.username)\n",
    "\n",
    "  def __len__(self):\n",
    "    return len(self.attendees)\n",
    "\n",
    "class Employee(AbstractEmployee, User):\n",
    "    def __init__(self, username):\n",
    "      super().__init__()\n",
    "      User.__init__(self)\n",
    "      self.username = username\n",
    "\n",
    "    def say_id(self):\n",
    "      print(\"My id is {}\".format(self.id))\n",
    " \n",
    "    def say_username(self):\n",
    "      print(\"My username is {}\".format(self.username))"
   ]
  },
  {
   "cell_type": "code",
   "execution_count": 35,
   "id": "9f94cd82-7c51-4079-9b3e-b5320f38fd2f",
   "metadata": {},
   "outputs": [
    {
     "name": "stdout",
     "output_type": "stream",
     "text": [
      "A high school named ESIME with 10 students.\n",
      "ESIME\n",
      "high\n",
      "10\n",
      "106\n",
      "55\n",
      "A primary school named Republica Dominicana with 100 students. The pickup policy is Pickup Allowed\n",
      "A high school named Codecademy with 1 students.And the sports teams are: ['soccer', 'box,', 'tennis']\n"
     ]
    }
   ],
   "source": [
    "class School():\n",
    "  def __init__(self, name, level, numberOfStudents):\n",
    "    self.name= name\n",
    "    self.level= level\n",
    "    self.numberOfStudents= numberOfStudents\n",
    "\n",
    "  def get_name(self):\n",
    "    return self.name\n",
    "  \n",
    "  def get_level(self):\n",
    "    return self.level\n",
    "  \n",
    "  def get_numberOfStudents(self):\n",
    "    return self.numberOfStudents\n",
    "\n",
    "  def set_numberOfStudents(self, numberOfStudents):\n",
    "    self.numberOfStudents= numberOfStudents\n",
    "  \n",
    "  def __repr__(self):\n",
    "    return \"A {} school named {} with {} students.\".format(self.level, self.name, self.numberOfStudents)\n",
    "  \n",
    "\n",
    "school_1=School(\"ESIME\", \"high\", 10)\n",
    "print(school_1)\n",
    "print(school_1.get_name())\n",
    "print(school_1.get_level())\n",
    "print(school_1.get_numberOfStudents())\n",
    "school_1.set_numberOfStudents(106)\n",
    "print(school_1.get_numberOfStudents())\n",
    "school_1.numberOfStudents=55\n",
    "print(school_1.get_numberOfStudents())\n",
    "\n",
    "\n",
    "class PrimarySchool(School):\n",
    "  def __init__(self, name, numberOfStudents, pickupPolicy):\n",
    "    super().__init__(name, \"primary\", numberOfStudents)\n",
    "    self.pickupPolicy= pickupPolicy\n",
    "  \n",
    "  def set_pickupPolicy(self, pickupPolicy):\n",
    "    self.pickupPolicy= pickupPolicy\n",
    "\n",
    "  def get_pickupPolicy(self, pickupPolicy):\n",
    "    return self.pickupPolicy\n",
    "  \n",
    "  def __repr__(self):\n",
    "    parentRepr= super().__repr__()\n",
    "    return parentRepr + \" The pickup policy is {}\".format(self.pickupPolicy)\n",
    "  \n",
    "P_School= PrimarySchool(\"Republica Dominicana\", 100, \"Pickup Allowed\")\n",
    "print(P_School)\n",
    "\n",
    "\n",
    "\n",
    "class HighSchool(School):\n",
    "  def __init__(self, name, numberOfStudents, sportsTeams):\n",
    "    super().__init__(name, \"high\", numberOfStudents)\n",
    "    self.sportsTeams= sportsTeams\n",
    "  \n",
    "  def get_sportsTeams(self, sportsTeams, i):\n",
    "    self.sportsTeams= sportsTeams\n",
    "    for self.i in self.sportsTeams:\n",
    "      self.i\n",
    "          \n",
    "  def __repr__(self):\n",
    "    parentRepr= super().__repr__()\n",
    "    return parentRepr + \"And the sports teams are: {}\".format(self.sportsTeams)\n",
    "    \n",
    "  \n",
    "h_school= HighSchool(\"Codecademy\", 1, [\"soccer\", \"box,\", \"tennis\"] )\n",
    "\n",
    "print(h_school)\n",
    "#print(h_school.get_name())\n",
    "#print(h_school.get_level())\n",
    "#print(h_school.get_numberOfStudents())\n",
    "#print(h_school.set_sportsTeams())\n"
   ]
  },
  {
   "cell_type": "code",
   "execution_count": 38,
   "id": "3a3a9a8e-d889-43f1-a116-d4e9abfc8f62",
   "metadata": {},
   "outputs": [
    {
     "name": "stdout",
     "output_type": "stream",
     "text": [
      "'soccer', 'box', 'tenis'\n"
     ]
    }
   ],
   "source": [
    "sports=[\"soccer\",\"box\",\"tenis\"]\n",
    "print(str(sports)[1:-1])"
   ]
  },
  {
   "cell_type": "code",
   "execution_count": 44,
   "id": "e9856395-e3ee-4caa-9ba3-1c1286068bf2",
   "metadata": {},
   "outputs": [
    {
     "name": "stdout",
     "output_type": "stream",
     "text": [
      "soccer box tenis \n"
     ]
    }
   ],
   "source": [
    "string=\"\"\n",
    "for i in sports:\n",
    "    string+= i+\" \"\n",
    "print(string)"
   ]
  },
  {
   "cell_type": "code",
   "execution_count": null,
   "id": "d72ad0c9-270d-4fbf-aafc-cde45b76faee",
   "metadata": {},
   "outputs": [],
   "source": []
  }
 ],
 "metadata": {
  "kernelspec": {
   "display_name": "Python 3 (ipykernel)",
   "language": "python",
   "name": "python3"
  },
  "language_info": {
   "codemirror_mode": {
    "name": "ipython",
    "version": 3
   },
   "file_extension": ".py",
   "mimetype": "text/x-python",
   "name": "python",
   "nbconvert_exporter": "python",
   "pygments_lexer": "ipython3",
   "version": "3.12.7"
  }
 },
 "nbformat": 4,
 "nbformat_minor": 5
}
